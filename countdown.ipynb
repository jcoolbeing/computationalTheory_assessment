{
 "cells": [
  {
   "cell_type": "markdown",
   "metadata": {},
   "source": [
    "Countdown - Numbers Round"
   ]
  },
  {
   "cell_type": "code",
   "execution_count": 54,
   "metadata": {},
   "outputs": [],
   "source": [
    "# RULES:\n",
    "# (Random) 6 numbers (1-10)x2 + 25, 50, 75, 100\n",
    "# (Random) 3 numbers 101->999\n",
    "\n",
    "# Each number used 1x\n",
    "# / only if result is a whole number\n",
    "# - only if result is a positive number"
   ]
  },
  {
   "cell_type": "code",
   "execution_count": 55,
   "metadata": {},
   "outputs": [],
   "source": [
    "# imports --\n",
    "from random import randint\n",
    "from random import sample"
   ]
  },
  {
   "cell_type": "markdown",
   "metadata": {},
   "source": [
    "I chose to use the randint from the random library. The task for creating a random number in a certain limit is not too complex using python so therefore this library is perfect for the job. \n",
    "I chose sample from the random library for picking the six numbers.\n",
    "link to documentation --> https://docs.python.org/3/library/random.html"
   ]
  },
  {
   "cell_type": "code",
   "execution_count": 56,
   "metadata": {},
   "outputs": [],
   "source": [
    "# these functions create the random numbers that need to be used \n",
    "# to solve the round.\n",
    "# pick_three for the target number\n",
    "def pick_three():\n",
    "    return randint(101, 999)\n",
    "\n",
    "# pick_six for the numbers to be used to reach target number\n",
    "def pick_six():\n",
    "    # two copies of regular numbers\n",
    "    regular_numbers = [i for i in range(1, 11)] * 2\n",
    "    \n",
    "    big_numbers = [25, 50, 75, 100]\n",
    "\n",
    "    # pick 4 regular numbers and 2 big numbers\n",
    "    numbers = sample(regular_numbers, 4) + sample(big_numbers, 2)\n",
    "    return numbers"
   ]
  },
  {
   "cell_type": "code",
   "execution_count": 57,
   "metadata": {},
   "outputs": [
    {
     "data": {
      "text/plain": [
       "726"
      ]
     },
     "execution_count": 57,
     "metadata": {},
     "output_type": "execute_result"
    }
   ],
   "source": [
    "# testing results from pick_three function\n",
    "pick_three()"
   ]
  },
  {
   "cell_type": "code",
   "execution_count": 58,
   "metadata": {},
   "outputs": [
    {
     "data": {
      "text/plain": [
       "[2, 1, 7, 1, 75, 25]"
      ]
     },
     "execution_count": 58,
     "metadata": {},
     "output_type": "execute_result"
    }
   ],
   "source": [
    "# testing the results from pick_six function\n",
    "pick_six()"
   ]
  },
  {
   "cell_type": "code",
   "execution_count": 59,
   "metadata": {},
   "outputs": [],
   "source": [
    "# main function to solve the number's round\n",
    "def solve_numbers():\n",
    "    return"
   ]
  }
 ],
 "metadata": {
  "kernelspec": {
   "display_name": "Python 3",
   "language": "python",
   "name": "python3"
  },
  "language_info": {
   "codemirror_mode": {
    "name": "ipython",
    "version": 3
   },
   "file_extension": ".py",
   "mimetype": "text/x-python",
   "name": "python",
   "nbconvert_exporter": "python",
   "pygments_lexer": "ipython3",
   "version": "3.10.11"
  }
 },
 "nbformat": 4,
 "nbformat_minor": 2
}
