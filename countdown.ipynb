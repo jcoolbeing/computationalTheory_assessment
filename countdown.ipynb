{
 "cells": [
  {
   "cell_type": "markdown",
   "metadata": {},
   "source": [
    "Countdown - Numbers Round"
   ]
  },
  {
   "cell_type": "code",
   "execution_count": 8,
   "metadata": {},
   "outputs": [],
   "source": [
    "# RULES:\n",
    "# (Random) 6 numbers (1-10)x2 + 25, 50, 75, 100\n",
    "# (Random) 3 numbers 101->999\n",
    "\n",
    "# Each number used 1x\n",
    "# / only if result is a whole number\n",
    "# - only if result is a positive number"
   ]
  },
  {
   "cell_type": "code",
   "execution_count": 9,
   "metadata": {},
   "outputs": [],
   "source": [
    "# imports --\n",
    "from random import randint\n",
    "from random import sample"
   ]
  },
  {
   "cell_type": "markdown",
   "metadata": {},
   "source": [
    "I chose to use the randint from the random library. The task for creating a random number in a certain limit is not too complex using python so therefore this library is perfect for the job. \n",
    "I chose sample from the random library for picking the six numbers.\n",
    "link to documentation --> https://docs.python.org/3/library/random.html"
   ]
  },
  {
   "cell_type": "code",
   "execution_count": 10,
   "metadata": {},
   "outputs": [],
   "source": [
    "# these functions create the random numbers that need to be used \n",
    "# to solve the round.\n",
    "# pick_three for the target number\n",
    "def pick_three():\n",
    "    return randint(101, 999)\n",
    "\n",
    "# pick_six for the numbers to be used to reach target number\n",
    "def pick_six():\n",
    "    # two copies of regular numbers\n",
    "    regular_numbers = [i for i in range(1, 11)] * 2\n",
    "    \n",
    "    big_numbers = [25, 50, 75, 100]\n",
    "\n",
    "    # pick 4 regular numbers and 2 big numbers\n",
    "    numbers = sample(regular_numbers, 4) + sample(big_numbers, 2)\n",
    "    return numbers"
   ]
  },
  {
   "cell_type": "code",
   "execution_count": 11,
   "metadata": {},
   "outputs": [
    {
     "data": {
      "text/plain": [
       "956"
      ]
     },
     "execution_count": 11,
     "metadata": {},
     "output_type": "execute_result"
    }
   ],
   "source": [
    "# testing results from pick_three function\n",
    "pick_three()"
   ]
  },
  {
   "cell_type": "code",
   "execution_count": 12,
   "metadata": {},
   "outputs": [
    {
     "data": {
      "text/plain": [
       "[5, 3, 6, 4, 25, 100]"
      ]
     },
     "execution_count": 12,
     "metadata": {},
     "output_type": "execute_result"
    }
   ],
   "source": [
    "# testing the results from pick_six function\n",
    "pick_six()"
   ]
  },
  {
   "cell_type": "code",
   "execution_count": 13,
   "metadata": {},
   "outputs": [
    {
     "name": "stdout",
     "output_type": "stream",
     "text": [
      "129\n",
      "[10, 4, 6, 2, 75, 50]\n"
     ]
    }
   ],
   "source": [
    "# setting the numbers into variables that can be used\n",
    "# for problem solving\n",
    "three_combo = pick_three()\n",
    "six_combo = pick_six()\n",
    "\n",
    "# displaying the numbers\n",
    "print (three_combo)\n",
    "print (six_combo)"
   ]
  },
  {
   "cell_type": "code",
   "execution_count": null,
   "metadata": {},
   "outputs": [],
   "source": [
    "# import permutations for number combinations\n",
    "from itertools import permutations, product"
   ]
  },
  {
   "cell_type": "code",
   "execution_count": 14,
   "metadata": {},
   "outputs": [],
   "source": [
    "# main function to solve the number's round\n",
    "# uses the 2 number combo variables\n",
    "# had issues with showing the operation steps\n",
    "def solve_numbers(three_combo, six_combo):\n",
    "    \n",
    "    three = three_combo\n",
    "    six = six_combo\n",
    "    closest = None\n",
    "    closest_diff = float('inf')\n",
    "    steps_for_closest = None\n",
    "    \n",
    "    # in order to stick to mathematical operations rules\n",
    "    # i read about using lambdas at https://realpython.com/python-lambda/\n",
    "    operations = [\n",
    "        ('+', lambda x, y: x + y),\n",
    "        ('-', lambda x, y: x - y if x - y > 0 else None),\n",
    "        ('*', lambda x, y: x * y),\n",
    "        ('/', lambda x, y: x // y if y != 0 and x % y == 0 else None)\n",
    "    ]\n",
    "    \n",
    "    # permutations ok the six numbers to solve the problem\n",
    "    # used https://docs.python.org/3/library/itertools.html to understand permutations\n",
    "    all_permutations = []\n",
    "    for r in range(1, len(six) + 1):\n",
    "        for perm in permutations(six, r):\n",
    "            all_permutations.append(perm)\n",
    "\n",
    "    for numbers in all_permutations:\n",
    "        for ops_combo in product(operations, repeat=len(numbers)-1):\n",
    "            result = numbers[0]\n",
    "            valid = True\n",
    "            steps = []\n",
    "\n",
    "            for num, (op_symbol, op_func) in zip(numbers[1:], ops_combo):\n",
    "                temp_result = op_func(result, num)\n",
    "                if temp_result is None:\n",
    "                    valid = False\n",
    "                    break\n",
    "                steps.append(f\"{result} {op_symbol} {num} = {temp_result}\")\n",
    "                result = temp_result\n",
    "            \n",
    "            if valid:\n",
    "                if result == three:\n",
    "                    return result, steps\n",
    "                \n",
    "                diff = abs(three - result)\n",
    "                if diff < closest_diff:\n",
    "                    closest_diff = diff\n",
    "                    closest = result\n",
    "                    steps_for_closest = steps\n",
    "\n",
    "    return closest if closest is not None else 'None', steps_for_closest"
   ]
  },
  {
   "cell_type": "code",
   "execution_count": 20,
   "metadata": {},
   "outputs": [
    {
     "ename": "TypeError",
     "evalue": "solve_numbers() takes 0 positional arguments but 2 were given",
     "output_type": "error",
     "traceback": [
      "\u001b[1;31m---------------------------------------------------------------------------\u001b[0m",
      "\u001b[1;31mTypeError\u001b[0m                                 Traceback (most recent call last)",
      "Cell \u001b[1;32mIn[20], line 1\u001b[0m\n\u001b[1;32m----> 1\u001b[0m \u001b[43msolve_numbers\u001b[49m\u001b[43m(\u001b[49m\u001b[43mthree_combo\u001b[49m\u001b[43m,\u001b[49m\u001b[43m \u001b[49m\u001b[43msix_combo\u001b[49m\u001b[43m)\u001b[49m\n",
      "\u001b[1;31mTypeError\u001b[0m: solve_numbers() takes 0 positional arguments but 2 were given"
     ]
    }
   ],
   "source": [
    "\n",
    "solve_numbers(three_combo, six_combo)"
   ]
  }
 ],
 "metadata": {
  "kernelspec": {
   "display_name": "Python 3",
   "language": "python",
   "name": "python3"
  },
  "language_info": {
   "codemirror_mode": {
    "name": "ipython",
    "version": 3
   },
   "file_extension": ".py",
   "mimetype": "text/x-python",
   "name": "python",
   "nbconvert_exporter": "python",
   "pygments_lexer": "ipython3",
   "version": "3.10.11"
  }
 },
 "nbformat": 4,
 "nbformat_minor": 2
}
