{
 "cells": [
  {
   "cell_type": "markdown",
   "metadata": {},
   "source": [
    "Countdown - Numbers Round"
   ]
  },
  {
   "cell_type": "code",
   "execution_count": null,
   "metadata": {},
   "outputs": [],
   "source": [
    "# RULES:\n",
    "# (Random) 6 numbers (1-10)x2 + 25, 50, 75, 100\n",
    "# (Random) 3 numbers 101->999\n",
    "\n",
    "# Each number used 1x\n",
    "# / only if result is a whole number\n",
    "# - only if result is a positive number"
   ]
  },
  {
   "cell_type": "code",
   "execution_count": null,
   "metadata": {},
   "outputs": [],
   "source": [
    "# imports\n",
    "from random import randint"
   ]
  },
  {
   "cell_type": "code",
   "execution_count": null,
   "metadata": {},
   "outputs": [],
   "source": [
    "# these functions create the random numbers that need to be used \n",
    "# to solve the round.\n",
    "# pick_three for the target number\n",
    "def pick_three():\n",
    "    return randint(101, 999)\n",
    "\n",
    "# pick_six for the numbers to be used to reach target number\n",
    "def pick_six():\n",
    "    return"
   ]
  },
  {
   "cell_type": "code",
   "execution_count": null,
   "metadata": {},
   "outputs": [],
   "source": [
    "# main function to solve the number's round\n",
    "def solve_numbers():\n",
    "    return"
   ]
  }
 ],
 "metadata": {
  "kernelspec": {
   "display_name": "Python 3",
   "language": "python",
   "name": "python3"
  },
  "language_info": {
   "name": "python",
   "version": "3.10.11"
  }
 },
 "nbformat": 4,
 "nbformat_minor": 2
}
