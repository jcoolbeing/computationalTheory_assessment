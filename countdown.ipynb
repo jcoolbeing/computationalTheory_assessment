{
 "cells": [
  {
   "cell_type": "markdown",
   "metadata": {},
   "source": [
    "Countdown - Numbers Round"
   ]
  },
  {
   "cell_type": "code",
   "execution_count": null,
   "metadata": {},
   "outputs": [],
   "source": [
    "# RULES:\n",
    "# (Random) 6 numbers (1-10)x2 + 25, 50, 75, 100\n",
    "# (Random) 3 numbers 101->999\n",
    "\n",
    "# Each number used 1x\n",
    "# / only if result is a whole number\n",
    "# - only if result is a positive number"
   ]
  },
  {
   "cell_type": "code",
   "execution_count": null,
   "metadata": {},
   "outputs": [],
   "source": [
    "# main function to solve the number's round\n",
    "def solve_numbers():\n",
    "    return"
   ]
  }
 ],
 "metadata": {
  "kernelspec": {
   "display_name": "Python 3",
   "language": "python",
   "name": "python3"
  },
  "language_info": {
   "name": "python",
   "version": "3.10.11"
  }
 },
 "nbformat": 4,
 "nbformat_minor": 2
}
