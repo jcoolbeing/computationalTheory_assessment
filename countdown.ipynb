{
 "cells": [
  {
   "cell_type": "markdown",
   "metadata": {},
   "source": [
    "Countdown - Numbers Round"
   ]
  },
  {
   "cell_type": "code",
   "execution_count": 48,
   "metadata": {},
   "outputs": [],
   "source": [
    "# RULES:\n",
    "# (Random) 6 numbers (1-10)x2 + 25, 50, 75, 100\n",
    "# (Random) 3 numbers 101->999\n",
    "\n",
    "# Each number used 1x\n",
    "# / only if result is a whole number\n",
    "# - only if result is a positive number"
   ]
  },
  {
   "cell_type": "code",
   "execution_count": 49,
   "metadata": {},
   "outputs": [],
   "source": [
    "# imports --\n",
    "from random import randint\n",
    "from random import sample"
   ]
  },
  {
   "cell_type": "markdown",
   "metadata": {},
   "source": [
    "I chose to use the randint from the random library. The task for creating a random number in a certain limit is not too complex using python so therefore this library is perfect for the job. \n",
    "I chose sample from the random library for picking the six numbers.\n",
    "link to documentation --> https://docs.python.org/3/library/random.html"
   ]
  },
  {
   "cell_type": "code",
   "execution_count": 50,
   "metadata": {},
   "outputs": [],
   "source": [
    "# these functions create the random numbers that need to be used \n",
    "# to solve the round.\n",
    "# pick_three for the target number\n",
    "def pick_three():\n",
    "    return randint(101, 999)\n",
    "\n",
    "# pick_six for the numbers to be used to reach target number\n",
    "def pick_six():\n",
    "    # two copies of regular numbers\n",
    "    regular_numbers = [i for i in range(1, 11)] * 2\n",
    "    \n",
    "    big_numbers = [25, 50, 75, 100]\n",
    "\n",
    "    # pick 4 regular numbers and 2 big numbers\n",
    "    numbers = sample(regular_numbers, 4) + sample(big_numbers, 2)\n",
    "    return numbers"
   ]
  },
  {
   "cell_type": "code",
   "execution_count": 51,
   "metadata": {},
   "outputs": [
    {
     "data": {
      "text/plain": [
       "953"
      ]
     },
     "execution_count": 51,
     "metadata": {},
     "output_type": "execute_result"
    }
   ],
   "source": [
    "# testing results from pick_three function\n",
    "pick_three()"
   ]
  },
  {
   "cell_type": "code",
   "execution_count": 52,
   "metadata": {},
   "outputs": [
    {
     "data": {
      "text/plain": [
       "[5, 3, 8, 7, 50, 100]"
      ]
     },
     "execution_count": 52,
     "metadata": {},
     "output_type": "execute_result"
    }
   ],
   "source": [
    "# testing the results from pick_six function\n",
    "pick_six()"
   ]
  },
  {
   "cell_type": "code",
   "execution_count": 53,
   "metadata": {},
   "outputs": [
    {
     "name": "stdout",
     "output_type": "stream",
     "text": [
      "725\n",
      "[10, 10, 1, 4, 50, 75]\n"
     ]
    }
   ],
   "source": [
    "# setting the numbers into variables that can be used\n",
    "# for problem solving\n",
    "three_combo = pick_three()\n",
    "six_combo = pick_six()\n",
    "\n",
    "# displaying the numbers\n",
    "print (three_combo)\n",
    "print (six_combo)"
   ]
  },
  {
   "cell_type": "code",
   "execution_count": 54,
   "metadata": {},
   "outputs": [],
   "source": [
    "# import permutations for number combinations\n",
    "from itertools import permutations, product"
   ]
  },
  {
   "cell_type": "markdown",
   "metadata": {},
   "source": [
    "I used itertools.permutations to create the permutations from 1 to the length of the six list. <br>\n",
    "The list of size n 's permutations taken r is nPr = n! / (n-r)! <br>\n",
    "The number of permutations for a list of 6 is huge! <br>\n",
    "If n = the length of the six numbers then you can argue that the total permutations for all lenghts <br>\n",
    "is 2^n. <br>\n",
    "For each permutation of length r, there are 4^r-1 combinations.<br>\n",
    "maximum r = 6, so 4^5=1024 combinations for every permutations of 6 numbers."
   ]
  },
  {
   "cell_type": "code",
   "execution_count": 55,
   "metadata": {},
   "outputs": [],
   "source": [
    "# main function to solve the number's round\n",
    "# uses the 2 number combo variables\n",
    "# had issues with showing the operation steps\n",
    "def solve_numbers(three_combo, six_combo):\n",
    "    \n",
    "    three = three_combo\n",
    "    six = six_combo\n",
    "    closest = None\n",
    "    closest_diff = float('inf')\n",
    "    steps_for_closest = None\n",
    "    \n",
    "    # in order to stick to mathematical operations rules\n",
    "    # i read about using lambdas at https://realpython.com/python-lambda/\n",
    "    operations = [\n",
    "        ('+', lambda x, y: x + y),\n",
    "        ('-', lambda x, y: x - y if x - y > 0 else None),\n",
    "        ('*', lambda x, y: x * y),\n",
    "        ('/', lambda x, y: x // y if y != 0 and x % y == 0 else None)\n",
    "    ]\n",
    "    \n",
    "    # permutations ok the six numbers to solve the problem\n",
    "    # used https://docs.python.org/3/library/itertools.html to understand permutations\n",
    "    all_permutations = []\n",
    "    for r in range(1, len(six) + 1):\n",
    "        for perm in permutations(six, r):\n",
    "            all_permutations.append(perm)\n",
    "\n",
    "    for numbers in all_permutations:\n",
    "        for ops_combo in product(operations, repeat=len(numbers)-1):\n",
    "            result = numbers[0]\n",
    "            valid = True\n",
    "            steps = []\n",
    "\n",
    "            for num, (op_symbol, op_func) in zip(numbers[1:], ops_combo):\n",
    "                temp_result = op_func(result, num)\n",
    "                if temp_result is None:\n",
    "                    valid = False\n",
    "                    break\n",
    "                steps.append(f\"{result} {op_symbol} {num} = {temp_result}\")\n",
    "                result = temp_result\n",
    "            \n",
    "            if valid:\n",
    "                if result == three:\n",
    "                    return result, steps\n",
    "                \n",
    "                diff = abs(three - result)\n",
    "                if diff < closest_diff:\n",
    "                    closest_diff = diff\n",
    "                    closest = result\n",
    "                    steps_for_closest = steps\n",
    "\n",
    "    return closest if closest is not None else 'None', steps_for_closest\n",
    "# needed to add extra line here to get the function to work\n"
   ]
  },
  {
   "cell_type": "markdown",
   "metadata": {},
   "source": [
    "Complexity:<br>\n",
    "Calculating the exact time complexity is complicated but it is safe to say that it grows exponentially<br>\n",
    "with the size of the permutations.<br>\n",
    "Space is really only affected by the saved permutations via steps_for_closest being used and generally grows<br>\n",
    "witht he number of inputs. Therefore you could argue for its space complexity being O(k*m). K being the number <br>\n",
    "of permutations stored and m being the size of the permutations."
   ]
  },
  {
   "cell_type": "code",
   "execution_count": 56,
   "metadata": {},
   "outputs": [
    {
     "name": "stdout",
     "output_type": "stream",
     "text": [
      "725\n",
      "[10, 10, 1, 4, 50, 75]\n"
     ]
    }
   ],
   "source": [
    "# displaying the numbers\n",
    "print (three_combo)\n",
    "print (six_combo)"
   ]
  },
  {
   "cell_type": "code",
   "execution_count": 57,
   "metadata": {},
   "outputs": [
    {
     "data": {
      "text/plain": [
       "(725, ['10 - 1 = 9', '9 * 75 = 675', '675 + 50 = 725'])"
      ]
     },
     "execution_count": 57,
     "metadata": {},
     "output_type": "execute_result"
    }
   ],
   "source": [
    "# execute solving function using the random numbers as parameters\n",
    "solve_numbers(three_combo, six_combo)"
   ]
  }
 ],
 "metadata": {
  "kernelspec": {
   "display_name": "Python 3 (ipykernel)",
   "language": "python",
   "name": "python3"
  },
  "language_info": {
   "codemirror_mode": {
    "name": "ipython",
    "version": 3
   },
   "file_extension": ".py",
   "mimetype": "text/x-python",
   "name": "python",
   "nbconvert_exporter": "python",
   "pygments_lexer": "ipython3",
   "version": "3.10.11"
  }
 },
 "nbformat": 4,
 "nbformat_minor": 2
}
